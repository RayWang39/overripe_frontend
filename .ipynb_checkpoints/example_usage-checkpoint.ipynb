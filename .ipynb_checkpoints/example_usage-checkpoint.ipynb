{
 "cells": [
  {
   "cell_type": "markdown",
   "metadata": {},
   "source": [
    "# IYP Query API - Usage Examples\n",
    "\n",
    "This notebook demonstrates how to use the IYP Query API to query the Internet Yellow Pages graph database."
   ]
  },
  {
   "cell_type": "markdown",
   "metadata": {},
   "source": [
    "## 1. Setup and Connection"
   ]
  },
  {
   "cell_type": "code",
   "execution_count": null,
   "metadata": {},
   "outputs": [],
   "source": [
    "# Import required modules\n",
    "from iyp_query import connect, Q, And, Or, Not\n",
    "from iyp_query.builder import IYPQueryBuilder\n",
    "import pandas as pd\n",
    "\n",
    "# Connect to the IYP database\n",
    "iyp = connect(\n",
    "    uri='bolt+s://iyp.christyquinn.com:7687',\n",
    "    username='neo4j',\n",
    "    password='lewagon25omgbbq'\n",
    ")\n",
    "\n",
    "print(\"Connected to IYP database successfully!\")"
   ]
  },
  {
   "cell_type": "markdown",
   "metadata": {},
   "source": [
    "## 2. High-Level Domain Queries"
   ]
  },
  {
   "cell_type": "code",
   "execution_count": null,
   "metadata": {},
   "outputs": [],
   "source": [
    "# Find upstream providers for a specific AS\n",
    "asn = 216139  # Example ASN\n",
    "upstream_providers = iyp.find_upstream_providers(asn=asn)\n",
    "\n",
    "print(f\"Upstream providers for AS{asn}:\")\n",
    "for provider in upstream_providers:\n",
    "    print(f\"  - AS{provider['asn']}: {provider.get('name', 'Unknown')}\")"
   ]
  },
  {
   "cell_type": "code",
   "execution_count": null,
   "metadata": {},
   "outputs": [],
   "source": [
    "# Find all ASes in a specific country\n",
    "country_code = 'GB'  # United Kingdom\n",
    "uk_ases = iyp.find_ases_by_country(country_code)\n",
    "\n",
    "print(f\"\\nFound {len(uk_ases)} ASes in {country_code}\")\n",
    "print(\"\\nFirst 10 UK ASes:\")\n",
    "for as_info in uk_ases[:10]:\n",
    "    print(f\"  AS{as_info['asn']}: {as_info.get('name', 'Unknown')}\")"
   ]
  },
  {
   "cell_type": "markdown",
   "metadata": {},
   "source": [
    "## 3. SQL-like Query Builder"
   ]
  },
  {
   "cell_type": "code",
   "execution_count": null,
   "metadata": {},
   "outputs": [],
   "source": [
    "# Find ASes with specific criteria using the query builder\n",
    "query = (iyp.builder()\n",
    "         .find('AS')\n",
    "         .with_relationship('COUNTRY', to='Country', alias='country')\n",
    "         .where(Q('country.country_code') == 'US')\n",
    "         .limit(5)\n",
    "         .return_fields(['AS.asn', 'AS.name', 'country.country_code'])\n",
    ")\n",
    "\n",
    "# Execute the query\n",
    "results = query.execute()\n",
    "\n",
    "print(\"US-based ASes (first 5):\")\n",
    "for result in results:\n",
    "    print(f\"  AS{result['AS.asn']}: {result.get('AS.name', 'Unknown')}\")"
   ]
  },
  {
   "cell_type": "code",
   "execution_count": null,
   "metadata": {},
   "outputs": [],
   "source": [
    "# Complex query with boolean conditions\n",
    "# Find ASes that depend on major transit providers\n",
    "major_transit_asns = [174, 3356, 1299, 2914]  # Cogent, Level3, Telia, NTT\n",
    "\n",
    "query = (iyp.builder()\n",
    "         .find('AS', alias='customer')\n",
    "         .with_relationship('DEPENDS_ON', to='AS', alias='provider')\n",
    "         .where(\n",
    "             And(\n",
    "                 Q('provider.asn').in_(major_transit_asns),\n",
    "                 Q('customer.asn') != 0\n",
    "             )\n",
    "         )\n",
    "         .limit(10)\n",
    "         .return_fields(['customer.asn', 'customer.name', 'provider.asn', 'provider.name'])\n",
    ")\n",
    "\n",
    "results = query.execute()\n",
    "\n",
    "print(\"\\nASes that depend on major transit providers:\")\n",
    "for result in results:\n",
    "    print(f\"  AS{result['customer.asn']} ({result.get('customer.name', 'Unknown')}) \"\n",
    "          f\"-> AS{result['provider.asn']} ({result.get('provider.name', 'Unknown')})\") "
   ]
  },
  {
   "cell_type": "markdown",
   "metadata": {},
   "source": [
    "## 4. Graph Traversal Examples"
   ]
  },
  {
   "cell_type": "code",
   "execution_count": null,
   "metadata": {},
   "outputs": [],
   "source": [
    "# Find multi-hop upstream providers\n",
    "query = (iyp.builder()\n",
    "         .find('AS', asn=216139)\n",
    "         .upstream(hops=2, alias='upstream_2hop')\n",
    "         .return_fields(['AS.asn', 'AS.name', 'upstream_2hop.asn', 'upstream_2hop.name'])\n",
    "         .limit(5)\n",
    ")\n",
    "\n",
    "results = query.execute()\n",
    "\n",
    "print(\"2-hop upstream providers for AS216139:\")\n",
    "for result in results:\n",
    "    print(f\"  AS{result['upstream_2hop.asn']}: {result.get('upstream_2hop.name', 'Unknown')}\")"
   ]
  },
  {
   "cell_type": "code",
   "execution_count": null,
   "metadata": {},
   "outputs": [],
   "source": [
    "# Find peering relationships at IXPs\n",
    "query = (iyp.builder()\n",
    "         .find('IXP')\n",
    "         .with_relationship('MEMBER_OF', from_='AS', alias='member')\n",
    "         .where(Q('IXP.name').contains('LINX'))\n",
    "         .limit(10)\n",
    "         .return_fields(['IXP.name', 'member.asn', 'member.name'])\n",
    ")\n",
    "\n",
    "results = query.execute()\n",
    "\n",
    "print(\"\\nAS members at LINX IXPs:\")\n",
    "for result in results:\n",
    "    print(f\"  {result['IXP.name']}: AS{result['member.asn']} ({result.get('member.name', 'Unknown')})\") "
   ]
  },
  {
   "cell_type": "markdown",
   "metadata": {},
   "source": [
    "## 5. Working with Organizations"
   ]
  },
  {
   "cell_type": "code",
   "execution_count": null,
   "metadata": {},
   "outputs": [],
   "source": [
    "# Find ASes managed by specific organizations\n",
    "query = (iyp.builder()\n",
    "         .find('Organization')\n",
    "         .with_relationship('MANAGED_BY', from_='AS', alias='managed_as')\n",
    "         .where(Q('Organization.name').contains('Google'))\n",
    "         .return_fields(['Organization.name', 'managed_as.asn', 'managed_as.name'])\n",
    "         .limit(10)\n",
    ")\n",
    "\n",
    "results = query.execute()\n",
    "\n",
    "print(\"ASes managed by Google:\")\n",
    "for result in results:\n",
    "    print(f\"  {result['Organization.name']}: AS{result['managed_as.asn']} ({result.get('managed_as.name', 'Unknown')})\") "
   ]
  },
  {
   "cell_type": "markdown",
   "metadata": {},
   "source": [
    "## 6. Working with IP Prefixes"
   ]
  },
  {
   "cell_type": "code",
   "execution_count": null,
   "metadata": {},
   "outputs": [],
   "source": [
    "# Find prefixes originated by an AS\n",
    "query = (iyp.builder()\n",
    "         .find('AS', asn=15169)  # Google's ASN\n",
    "         .with_relationship('ORIGINATE', to='BGPPrefix', alias='prefix')\n",
    "         .limit(5)\n",
    "         .return_fields(['AS.asn', 'AS.name', 'prefix.prefix'])\n",
    ")\n",
    "\n",
    "results = query.execute()\n",
    "\n",
    "print(\"Prefixes originated by AS15169 (Google):\")\n",
    "for result in results:\n",
    "    print(f\"  {result.get('prefix.prefix', 'Unknown prefix')}\")"
   ]
  },
  {
   "cell_type": "markdown",
   "metadata": {},
   "source": [
    "## 7. Export Results to DataFrame"
   ]
  },
  {
   "cell_type": "code",
   "execution_count": null,
   "metadata": {},
   "outputs": [],
   "source": [
    "# Get results as a pandas DataFrame\n",
    "query = (iyp.builder()\n",
    "         .find('AS')\n",
    "         .with_relationship('COUNTRY', to='Country', alias='country')\n",
    "         .with_relationship('MANAGED_BY', to='Organization', alias='org')\n",
    "         .where(Q('country.country_code') == 'GB')\n",
    "         .limit(20)\n",
    "         .return_fields(['AS.asn', 'AS.name', 'org.name', 'country.country_code'])\n",
    ")\n",
    "\n",
    "# Get results as DataFrame\n",
    "df = query.execute_df()\n",
    "\n",
    "print(\"UK ASes as DataFrame:\")\n",
    "print(df.head(10))\n",
    "\n",
    "# You can now use pandas operations\n",
    "print(f\"\\nTotal unique organizations: {df['org.name'].nunique()}\")"
   ]
  },
  {
   "cell_type": "markdown",
   "metadata": {},
   "source": [
    "## 8. Debug Generated Cypher Queries"
   ]
  },
  {
   "cell_type": "code",
   "execution_count": null,
   "metadata": {},
   "outputs": [],
   "source": [
    "# View the generated Cypher query for debugging\n",
    "query = (iyp.builder()\n",
    "         .find('AS', alias='target')\n",
    "         .with_relationship('DEPENDS_ON', to='AS', alias='upstream')\n",
    "         .with_relationship('COUNTRY', to='Country', alias='country')\n",
    "         .where(\n",
    "             And(\n",
    "                 Q('country.country_code') == 'US',\n",
    "                 Or(\n",
    "                     Q('upstream.asn') == 174,\n",
    "                     Q('upstream.asn') == 3356\n",
    "                 )\n",
    "             )\n",
    "         )\n",
    "         .limit(5)\n",
    "         .return_fields(['target.asn', 'target.name', 'upstream.asn'])\n",
    ")\n",
    "\n",
    "# Show the generated Cypher query\n",
    "print(\"Generated Cypher query:\")\n",
    "print(query.to_cypher())\n",
    "print(\"\\nQuery parameters:\")\n",
    "print(params)"
   ]
  },
  {
   "cell_type": "markdown",
   "metadata": {},
   "source": [
    "## 9. Raw Cypher Queries (Advanced)"
   ]
  },
  {
   "cell_type": "code",
   "execution_count": null,
   "metadata": {},
   "outputs": [],
   "source": [
    "# Execute raw Cypher for complex queries\n",
    "cypher_query = \"\"\"\n",
    "MATCH (as:AS)-[:DEPENDS_ON]->(upstream:AS)\n",
    "WHERE upstream.asn IN [174, 3356, 1299]\n",
    "RETURN as.asn AS customer_asn, as.name AS customer_name, \n",
    "       upstream.asn AS provider_asn, upstream.name AS provider_name\n",
    "LIMIT 10\n",
    "\"\"\"\n",
    "\n",
    "results = iyp.raw_query(cypher_query)\n",
    "\n",
    "print(\"Results from raw Cypher query:\")\n",
    "for result in results:\n",
    "    print(f\"  AS{result['customer_asn']} -> AS{result['provider_asn']}\")"
   ]
  },
  {
   "cell_type": "markdown",
   "metadata": {},
   "source": [
    "## 10. Error Handling"
   ]
  },
  {
   "cell_type": "code",
   "execution_count": null,
   "metadata": {},
   "outputs": [],
   "source": [
    "# Example of error handling\n",
    "try:\n",
    "    # This will fail due to invalid node type\n",
    "    query = iyp.builder().find('InvalidNodeType')\n",
    "    results = query.execute()\n",
    "except Exception as e:\n",
    "    print(f\"Error caught: {e}\")\n",
    "\n",
    "# Proper error handling\n",
    "try:\n",
    "    query = (iyp.builder()\n",
    "             .find('AS', asn=999999999)  # Non-existent ASN\n",
    "             .execute()\n",
    "    )\n",
    "    if not query:\n",
    "        print(\"No results found for ASN 999999999\")\n",
    "except Exception as e:\n",
    "    print(f\"Query error: {e}\")"
   ]
  }
 ],
 "metadata": {
  "kernelspec": {
   "display_name": "Python 3",
   "language": "python",
   "name": "python3"
  },
  "language_info": {
   "codemirror_mode": {
    "name": "ipython",
    "version": 3
   },
   "file_extension": ".py",
   "mimetype": "text/x-python",
   "name": "python",
   "nbconvert_exporter": "python",
   "pygments_lexer": "ipython3",
   "version": "3.12.9"
  }
 },
 "nbformat": 4,
 "nbformat_minor": 4
}