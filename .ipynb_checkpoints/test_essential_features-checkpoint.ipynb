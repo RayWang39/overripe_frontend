{
 "cells": [
  {
   "cell_type": "markdown",
   "metadata": {},
   "source": [
    "# IYP Query API - Essential Features Test\n",
    "\n",
    "Quick demonstration of the core capabilities"
   ]
  },
  {
   "cell_type": "code",
   "execution_count": 1,
   "metadata": {},
   "outputs": [
    {
     "name": "stdout",
     "output_type": "stream",
     "text": [
      "✅ Connected to IYP database\n"
     ]
    }
   ],
   "source": [
    "# Setup - Import and Connect\n",
    "from iyp_query import connect, Q, And, Or\n",
    "import pandas as pd\n",
    "\n",
    "# Connect to database\n",
    "iyp = connect('bolt+s://iyp.christyquinn.com:7687', 'neo4j', 'lewagon25omgbbq')\n",
    "print(\"✅ Connected to IYP database\")"
   ]
  },
  {
   "cell_type": "markdown",
   "metadata": {},
   "source": [
    "query = (iyp.builder()          # Start query\n",
    "         .find('AS', asn=15169)  # Find node\n",
    "         .with_organizations()    # Add related data\n",
    "         .execute())  "
   ]
  },
  {
   "cell_type": "code",
   "execution_count": 38,
   "metadata": {},
   "outputs": [],
   "source": [
    "cypher, param = query.to_cypher()"
   ]
  },
  {
   "cell_type": "code",
   "execution_count": 2,
   "metadata": {},
   "outputs": [
    {
     "name": "stdout",
     "output_type": "stream",
     "text": [
      "[{'organization': {'country': 'GB', 'address_lines': ['71-75, Shelton Street, Covent Garden, London, United Kingdom, WC2H 9JQ'], 'reg_source_url': 'https://rest.db.ripe.net/ripe/organisation/ORG-IHCL4-RIPE.json', 'name': 'Iron Hosting Centre LTD', 'reg_source': 'RIPE-DB', 'reg_last_seen': neo4j.time.DateTime(2025, 8, 21, 21, 55, 2, 0, tzinfo=<UTC>)}, 'as': {'asn': 216139}}]\n"
     ]
    }
   ],
   "source": [
    "# Cell 2: Query 1 (use auto-aliases)\n",
    "query1 = (iyp.builder()\n",
    "          .find('AS', asn=216139)\n",
    "          .with_organizations()\n",
    "          .execute())\n",
    "print(query1)"
   ]
  },
  {
   "cell_type": "code",
   "execution_count": null,
   "metadata": {},
   "outputs": [],
   "source": []
  },
  {
   "cell_type": "code",
   "execution_count": null,
   "metadata": {},
   "outputs": [],
   "source": []
  },
  {
   "cell_type": "markdown",
   "metadata": {},
   "source": [
    "## 1. Basic Query - Find AS by Number"
   ]
  },
  {
   "cell_type": "code",
   "execution_count": 3,
   "metadata": {},
   "outputs": [
    {
     "name": "stdout",
     "output_type": "stream",
     "text": [
      "AS15169: None\n",
      "[{'google.asn': 15169, 'google.name': None}]\n"
     ]
    }
   ],
   "source": [
    "# Find a specific AS (Google)\n",
    "result = (iyp.builder()\n",
    "          .find('AS', alias='google', asn=15169)\n",
    "          .return_fields(['google.asn', 'google.name'])\n",
    "          .execute())\n",
    "\n",
    "print(f\"AS15169: {result[0]['google.name'] if result else 'Not found'}\")\n",
    "print(result)"
   ]
  },
  {
   "cell_type": "markdown",
   "metadata": {},
   "source": [
    "## 2. Relationship Traversal - Find Upstream Providers"
   ]
  },
  {
   "cell_type": "code",
   "execution_count": 18,
   "metadata": {},
   "outputs": [
    {
     "name": "stdout",
     "output_type": "stream",
     "text": [
      "Upstream providers for AS216139:\n",
      "  - AS15169: None\n",
      "  - AS15169: None\n",
      "  - AS6453: None\n"
     ]
    }
   ],
   "source": [
    "# Find upstream providers using high-level API\n",
    "providers = iyp.find_upstream_providers(asn=15169, max_hops=2)\n",
    "\n",
    "print(\"Upstream providers for AS216139:\")\n",
    "for p in providers[:3]:  # Show first 3\n",
    "    print(f\"  - AS{p.get('upstream.asn', 'N/A')}: {p.get('upstream.name', 'Unknown')}\")"
   ]
  },
  {
   "cell_type": "markdown",
   "metadata": {},
   "source": [
    "## 3. Complex Conditions - Boolean Logic"
   ]
  },
  {
   "cell_type": "code",
   "execution_count": 19,
   "metadata": {},
   "outputs": [
    {
     "name": "stdout",
     "output_type": "stream",
     "text": [
      "Found 3 US customers of major transit providers\n",
      "  AS393822 -> AS174\n",
      "  AS393822 -> AS174\n",
      "  AS393822 -> AS174\n"
     ]
    }
   ],
   "source": [
    "# Find US-based ASes that depend on major transit providers\n",
    "major_transit = [174, 3356, 1299]  # Cogent, Level3, Telia\n",
    "\n",
    "results = (iyp.builder()\n",
    "           .find('AS', alias='customer')\n",
    "           .with_relationship('DEPENDS_ON', to='AS', alias='provider')\n",
    "           .with_relationship('COUNTRY', to='Country', alias='country')\n",
    "           .where(\n",
    "               And(\n",
    "                   Q('provider.asn').in_(major_transit),\n",
    "                   Q('country.country_code') == 'US'\n",
    "               )\n",
    "           )\n",
    "           .limit(3)\n",
    "           .return_fields(['customer.asn', 'customer.name', 'provider.asn'])\n",
    "           .execute())\n",
    "\n",
    "print(f\"Found {len(results)} US customers of major transit providers\")\n",
    "for r in results:\n",
    "    print(f\"  AS{r['customer.asn']} -> AS{r['provider.asn']}\")"
   ]
  },
  {
   "cell_type": "markdown",
   "metadata": {},
   "source": [
    "## 4. Graph Traversal - Multi-hop Relationships"
   ]
  },
  {
   "cell_type": "code",
   "execution_count": 20,
   "metadata": {},
   "outputs": [
    {
     "name": "stdout",
     "output_type": "stream",
     "text": [
      "2-hop upstream from AS216139:\n",
      "  AS216139: None\n",
      "  AS216139: None\n",
      "  AS49612: None\n",
      "  AS57724: None\n",
      "  AS2914: None\n"
     ]
    }
   ],
   "source": [
    "# Find 2-hop upstream providers\n",
    "results = (iyp.builder()\n",
    "           .find('AS', alias='start', asn=216139)\n",
    "           .upstream(hops=2, alias='upstream2')\n",
    "           .return_fields(['upstream2.asn', 'upstream2.name'])\n",
    "           .limit(5)\n",
    "           .execute())\n",
    "\n",
    "print(\"2-hop upstream from AS216139:\")\n",
    "for r in results:\n",
    "    print(f\"  AS{r['upstream2.asn']}: {r.get('upstream2.name', 'Unknown')}\")"
   ]
  },
  {
   "cell_type": "markdown",
   "metadata": {},
   "source": [
    "## 5. Export to DataFrame"
   ]
  },
  {
   "cell_type": "code",
   "execution_count": 21,
   "metadata": {},
   "outputs": [
    {
     "name": "stdout",
     "output_type": "stream",
     "text": [
      "UK ASes (showing 10 rows):\n",
      "   uk_as.asn uk_as.name\n",
      "0      51766       None\n",
      "1      25369       None\n",
      "2     212655       None\n",
      "3      12496       None\n",
      "4      20860       None\n"
     ]
    }
   ],
   "source": [
    "# Get results as pandas DataFrame\n",
    "df = (iyp.builder()\n",
    "      .find('AS', alias='uk_as')\n",
    "      .with_relationship('COUNTRY', to='Country', alias='country')\n",
    "      .where(Q('country.country_code') == 'GB')\n",
    "      .limit(10)\n",
    "      .return_fields(['uk_as.asn', 'uk_as.name', 'country.country_code'])\n",
    "      .execute_df())\n",
    "\n",
    "print(f\"UK ASes (showing {len(df)} rows):\")\n",
    "print(df[['uk_as.asn', 'uk_as.name']].head())"
   ]
  },
  {
   "cell_type": "markdown",
   "metadata": {},
   "source": [
    "## 6. Debug - View Generated Cypher"
   ]
  },
  {
   "cell_type": "code",
   "execution_count": 4,
   "metadata": {},
   "outputs": [
    {
     "name": "stdout",
     "output_type": "stream",
     "text": [
      "Generated Cypher:\n",
      "MATCH (test:AS)\n",
      "MATCH (test)-[:PEERS_WITH]->(peer:AS)\n",
      "WHERE test.asn = $param_0\n",
      "RETURN test.asn, peer.asn, peer.name\n",
      "LIMIT 2\n",
      "\n",
      "Parameters:\n",
      "{'param_0': 15169}\n"
     ]
    }
   ],
   "source": [
    "# See what Cypher query is generated\n",
    "query = (iyp.builder()\n",
    "         .find('AS', alias='test')\n",
    "         .with_relationship('PEERS_WITH', to='AS', alias='peer')\n",
    "         .where(Q('test.asn') == 15169)\n",
    "         .limit(2)\n",
    "         .return_fields(['test.asn', 'peer.asn', 'peer.name']))\n",
    "\n",
    "print(\"Generated Cypher:\")\n",
    "cypher, params = query.to_cypher()\n",
    "print(cypher)\n",
    "print(\"\\nParameters:\")\n",
    "print(params)"
   ]
  },
  {
   "cell_type": "code",
   "execution_count": 9,
   "metadata": {},
   "outputs": [
    {
     "name": "stdout",
     "output_type": "stream",
     "text": [
      "<iyp_query.builder.IYPQueryBuilder object at 0x134b98fb0>\n",
      "MATCH (as:AS {asn: $param_0})\n",
      "MATCH (as)-[:MANAGED_BY]->(organization:Organization)\n",
      "RETURN organization, as {'param_0': 216139}\n"
     ]
    }
   ],
   "source": [
    "query_3 = (iyp.builder()\n",
    "            .find('AS', asn=216139)\n",
    "            .with_organizations()\n",
    "            )\n",
    "\n",
    "print(query_3)\n",
    "\n",
    "cypher, param = query_3.to_cypher()\n",
    "print(cypher, param)"
   ]
  },
  {
   "cell_type": "markdown",
   "metadata": {},
   "source": [
    "## Summary of Essential Features\n",
    "\n",
    "✅ **Basic Queries** - Find nodes by properties  \n",
    "✅ **Relationships** - Traverse graph connections  \n",
    "✅ **Boolean Logic** - Complex AND/OR/NOT conditions  \n",
    "✅ **Multi-hop Traversal** - Follow relationships multiple steps  \n",
    "✅ **DataFrame Export** - Integration with pandas  \n",
    "✅ **Debug Support** - View generated Cypher queries  "
   ]
  }
 ],
 "metadata": {
  "kernelspec": {
   "display_name": "overripe",
   "language": "python",
   "name": "python3"
  },
  "language_info": {
   "codemirror_mode": {
    "name": "ipython",
    "version": 3
   },
   "file_extension": ".py",
   "mimetype": "text/x-python",
   "name": "python",
   "nbconvert_exporter": "python",
   "pygments_lexer": "ipython3",
   "version": "3.12.9"
  }
 },
 "nbformat": 4,
 "nbformat_minor": 4
}
