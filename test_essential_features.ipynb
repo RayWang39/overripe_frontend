{
 "cells": [
  {
   "cell_type": "markdown",
   "metadata": {},
   "source": [
    "# IYP Query API - Essential Features Test\n",
    "\n",
    "Quick demonstration of the core capabilities"
   ]
  },
  {
   "cell_type": "code",
   "execution_count": 1,
   "metadata": {
    "execution": {
     "iopub.execute_input": "2025-08-28T09:58:07.769656Z",
     "iopub.status.busy": "2025-08-28T09:58:07.767366Z",
     "iopub.status.idle": "2025-08-28T09:58:09.160507Z",
     "shell.execute_reply": "2025-08-28T09:58:09.157414Z",
     "shell.execute_reply.started": "2025-08-28T09:58:07.769601Z"
    }
   },
   "outputs": [
    {
     "name": "stdout",
     "output_type": "stream",
     "text": [
      "✅ Connected to IYP database\n"
     ]
    }
   ],
   "source": [
    "# Setup - Import and Connect\n",
    "from iyp_query import connect, Q, And, Or\n",
    "import pandas as pd\n",
    "\n",
    "# Connect to database\n",
    "iyp = connect('bolt+s://iyp.christyquinn.com:7687', 'neo4j', 'lewagon25omgbbq')\n",
    "print(\"✅ Connected to IYP database\")"
   ]
  },
  {
   "cell_type": "markdown",
   "metadata": {},
   "source": [
    "query = (iyp.builder()          # Start query\n",
    "         .find('AS', asn=15169)  # Find node\n",
    "         .with_organizations()    # Add related data\n",
    "         .execute())  "
   ]
  },
  {
   "cell_type": "code",
   "execution_count": 38,
   "metadata": {},
   "outputs": [],
   "source": [
    "cypher, param = query.to_cypher()"
   ]
  },
  {
   "cell_type": "code",
   "execution_count": null,
   "metadata": {},
   "outputs": [],
   "source": [
    "# Query 1: Find AS 216139 and its managing organizations\n",
    "# Plain English: \"Find the Autonomous System number 216139 and show me\n",
    "# which organization manages/owns it, including the organization's details\"\n",
    "query1 = (iyp.builder()\n",
    "          .find('AS', asn=216139)  # Find the AS node with ASN 216139\n",
    "          .with_organizations()     # Include the organization that manages this AS\n",
    "          .execute())\n",
    "print(query1)"
   ]
  },
  {
   "cell_type": "code",
   "execution_count": null,
   "metadata": {},
   "outputs": [],
   "source": []
  },
  {
   "cell_type": "code",
   "execution_count": null,
   "metadata": {},
   "outputs": [],
   "source": []
  },
  {
   "cell_type": "markdown",
   "metadata": {},
   "source": [
    "## 1. Basic Query - Find AS by Number"
   ]
  },
  {
   "cell_type": "code",
   "execution_count": null,
   "metadata": {},
   "outputs": [],
   "source": [
    "# Find a specific AS (Google's AS15169) and retrieve its ASN and name\n",
    "# Plain English: \"Look for Google's Autonomous System (AS15169) and\n",
    "# show me its AS number and name/description\"\n",
    "result = (iyp.builder()\n",
    "          .find('AS', alias='google', asn=15169)  # Find AS15169, call it 'google'\n",
    "          .return_fields(['google.asn', 'google.name'])  # Only return these fields\n",
    "          .execute())\n",
    "\n",
    "print(f\"AS15169: {result[0]['google.name'] if result else 'Not found'}\")\n",
    "print(result)"
   ]
  },
  {
   "cell_type": "markdown",
   "metadata": {},
   "source": [
    "## 2. Relationship Traversal - Find Upstream Providers"
   ]
  },
  {
   "cell_type": "code",
   "execution_count": null,
   "metadata": {},
   "outputs": [],
   "source": [
    "# Find upstream providers (transit providers) for AS15169 up to 2 hops away\n",
    "# Plain English: \"Show me which networks provide internet connectivity to AS15169.\n",
    "# Look up to 2 levels deep in the provider chain (provider's providers)\"\n",
    "# This helps identify who AS15169 depends on for internet connectivity\n",
    "providers = iyp.find_upstream_providers(asn=15169, max_hops=2)\n",
    "\n",
    "print(\"Upstream providers for AS15169:\")\n",
    "for p in providers[:3]:  # Show first 3\n",
    "    print(f\"  - AS{p.get('upstream.asn', 'N/A')}: {p.get('upstream.name', 'Unknown')}\")"
   ]
  },
  {
   "cell_type": "markdown",
   "metadata": {},
   "source": [
    "## 3. Complex Conditions - Boolean Logic"
   ]
  },
  {
   "cell_type": "code",
   "execution_count": null,
   "metadata": {},
   "outputs": [],
   "source": [
    "# Find US-based ASes that depend on major transit providers\n",
    "# Plain English: \"Find all Autonomous Systems located in the United States\n",
    "# that buy internet transit from one of the three major providers (Cogent, Level3, or Telia).\n",
    "# This shows which US networks are customers of these major backbone providers.\"\n",
    "\n",
    "major_transit = [174, 3356, 1299]  # Cogent (174), Level3 (3356), Telia (1299)\n",
    "\n",
    "results = (iyp.builder()\n",
    "           .find('AS', alias='customer')  # Find AS nodes, call them 'customer'\n",
    "           .with_relationship('DEPENDS_ON', to='AS', alias='provider')  # Find their providers\n",
    "           .with_relationship('COUNTRY', to='Country', alias='country')  # Find their country\n",
    "           .where(\n",
    "               And(  # Both conditions must be true:\n",
    "                   Q('provider.asn').in_(major_transit),  # Provider is one of the major ones\n",
    "                   Q('country.country_code') == 'US'      # Customer is in the US\n",
    "               )\n",
    "           )\n",
    "           .limit(3)  # Only show first 3 results\n",
    "           .return_fields(['customer.asn', 'customer.name', 'provider.asn'])\n",
    "           .execute())\n",
    "\n",
    "print(f\"Found {len(results)} US customers of major transit providers\")\n",
    "for r in results:\n",
    "    print(f\"  AS{r['customer.asn']} -> AS{r['provider.asn']}\")"
   ]
  },
  {
   "cell_type": "markdown",
   "metadata": {},
   "source": [
    "## 4. Graph Traversal - Multi-hop Relationships"
   ]
  },
  {
   "cell_type": "code",
   "execution_count": null,
   "metadata": {},
   "outputs": [],
   "source": [
    "# Find 2-hop upstream providers from AS216139\n",
    "# Plain English: \"Starting from AS216139, find their upstream providers (1 hop),\n",
    "# then find those providers' upstream providers (2 hops). This shows the\n",
    "# provider hierarchy two levels up - useful for understanding network dependencies\n",
    "# and potential single points of failure in connectivity.\"\n",
    "\n",
    "results = (iyp.builder()\n",
    "           .find('AS', alias='start', asn=216139)  # Start from AS216139\n",
    "           .upstream(hops=2, alias='upstream2')     # Go 2 hops upstream in provider chain\n",
    "           .return_fields(['upstream2.asn', 'upstream2.name'])\n",
    "           .limit(5)  # Show first 5 results\n",
    "           .execute())\n",
    "\n",
    "print(\"2-hop upstream from AS216139:\")\n",
    "for r in results:\n",
    "    print(f\"  AS{r['upstream2.asn']}: {r.get('upstream2.name', 'Unknown')}\")"
   ]
  },
  {
   "cell_type": "markdown",
   "metadata": {},
   "source": [
    "## 5. Export to DataFrame"
   ]
  },
  {
   "cell_type": "code",
   "execution_count": null,
   "metadata": {},
   "outputs": [],
   "source": [
    "# Get UK-based ASes and export to pandas DataFrame\n",
    "# Plain English: \"Find all Autonomous Systems that are located in Great Britain (GB),\n",
    "# retrieve their AS number and name, and return the results as a pandas DataFrame\n",
    "# for easy data analysis and manipulation.\"\n",
    "\n",
    "df = (iyp.builder()\n",
    "      .find('AS', alias='uk_as')  # Find AS nodes, call them 'uk_as'\n",
    "      .with_relationship('COUNTRY', to='Country', alias='country')  # Include country info\n",
    "      .where(Q('country.country_code') == 'GB')  # Filter for Great Britain only\n",
    "      .limit(10)  # Get first 10 results\n",
    "      .return_fields(['uk_as.asn', 'uk_as.name', 'country.country_code'])\n",
    "      .execute_df())  # Return as DataFrame instead of dictionary\n",
    "\n",
    "print(f\"UK ASes (showing {len(df)} rows):\")\n",
    "print(df[['uk_as.asn', 'uk_as.name']].head())"
   ]
  },
  {
   "cell_type": "markdown",
   "metadata": {},
   "source": [
    "## 6. Debug - View Generated Cypher"
   ]
  },
  {
   "cell_type": "code",
   "execution_count": null,
   "metadata": {},
   "outputs": [],
   "source": [
    "# Debug: View the generated Cypher query before execution\n",
    "# Plain English: \"Find AS15169 (Google) and all the ASes it peers with\n",
    "# (direct connections for exchanging traffic). Show the raw Cypher query\n",
    "# that would be sent to the Neo4j database - useful for debugging and\n",
    "# understanding what's happening under the hood.\"\n",
    "\n",
    "query = (iyp.builder()\n",
    "         .find('AS', alias='test')  # Find AS nodes\n",
    "         .with_relationship('PEERS_WITH', to='AS', alias='peer')  # Find peering relationships\n",
    "         .where(Q('test.asn') == 15169)  # Filter for AS15169 (Google)\n",
    "         .limit(2)  # Only show 2 peers\n",
    "         .return_fields(['test.asn', 'peer.asn', 'peer.name']))\n",
    "\n",
    "print(\"Generated Cypher:\")\n",
    "cypher, params = query.to_cypher()  # Convert to raw Cypher query\n",
    "print(cypher)\n",
    "print(\"\\nParameters:\")\n",
    "print(params)"
   ]
  },
  {
   "cell_type": "code",
   "execution_count": 13,
   "metadata": {},
   "outputs": [
    {
     "name": "stdout",
     "output_type": "stream",
     "text": [
      "<iyp_query.builder.IYPQueryBuilder object at 0x134b9ac30>\n",
      "MATCH (as:AS {asn: $param_0})\n",
      "MATCH (as)-[:MANAGED_BY]->(organization:Organization)\n",
      "MATCH (as)-[:DEPENDS_ON]->(up:AS)\n",
      "RETURN up, organization, as {'param_0': 216139}\n"
     ]
    }
   ],
   "source": [
    "# Query 3: Find AS216139 and its managing organization, then show the generated Cypher\n",
    "# Plain English: \"Find AS216139 and the organization that manages it.\n",
    "# Then display the raw Cypher query and parameters that would be sent to Neo4j.\n",
    "# This demonstrates how the API translates our Python method calls into\n",
    "# Neo4j's native Cypher query language.\"\n",
    "\n",
    "query_3 = (iyp.builder()\n",
    "            .find('AS', asn=216139)      # Find AS with ASN 216139\n",
    "            .with_organizations()         # Include managing organization\n",
    "            .upstream(hops=1, alias='up')\n",
    "            )# Go 1 hop upstream in provider chain\n",
    "\n",
    "print(query_3)  # Shows the query builder object\n",
    "\n",
    "# Show the underlying Cypher query and parameters\n",
    "cypher, param = query_3.to_cypher()\n",
    "print(cypher, param)"
   ]
  },
  {
   "cell_type": "markdown",
   "metadata": {},
   "source": [
    "## Summary of Essential Features\n",
    "\n",
    "✅ **Basic Queries** - Find nodes by properties  \n",
    "✅ **Relationships** - Traverse graph connections  \n",
    "✅ **Boolean Logic** - Complex AND/OR/NOT conditions  \n",
    "✅ **Multi-hop Traversal** - Follow relationships multiple steps  \n",
    "✅ **DataFrame Export** - Integration with pandas  \n",
    "✅ **Debug Support** - View generated Cypher queries  "
   ]
  }
 ],
 "metadata": {
  "kernelspec": {
   "display_name": "Python 3 (ipykernel)",
   "language": "python",
   "name": "python3"
  },
  "language_info": {
   "codemirror_mode": {
    "name": "ipython",
    "version": 3
   },
   "file_extension": ".py",
   "mimetype": "text/x-python",
   "name": "python",
   "nbconvert_exporter": "python",
   "pygments_lexer": "ipython3",
   "version": "3.12.9"
  }
 },
 "nbformat": 4,
 "nbformat_minor": 4
}
