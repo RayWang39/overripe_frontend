{
 "cells": [
  {
   "cell_type": "markdown",
   "metadata": {},
   "source": [
    "# IYP Query API - Essential Features Test (Fixed)\n",
    "\n",
    "Quick demonstration of core capabilities with automatic alias generation"
   ]
  },
  {
   "cell_type": "code",
   "execution_count": null,
   "metadata": {},
   "outputs": [],
   "source": [
    "# Setup - Import and Connect\n",
    "from iyp_query import connect, Q, And, Or\n",
    "import pandas as pd\n",
    "\n",
    "# Connect to database\n",
    "iyp = connect('bolt+s://iyp.christyquinn.com:7687', 'neo4j', 'lewagon25omgbbq')\n",
    "print(\"✅ Connected to IYP database\")"
   ]
  },
  {
   "cell_type": "markdown",
   "metadata": {},
   "source": [
    "## 1. Basic Query - Find AS by Number (Automatic Alias)"
   ]
  },
  {
   "cell_type": "code",
   "execution_count": null,
   "metadata": {},
   "outputs": [],
   "source": [
    "# Find a specific AS (Google) - using automatic alias generation\n",
    "result = (iyp.builder()\n",
    "          .find('AS', asn=15169)  # Will automatically use 'as' as alias\n",
    "          .return_fields(['as.asn', 'as.name'])\n",
    "          .run())\n",
    "\n",
    "print(f\"AS15169: {result[0]['as.name'] if result else 'Not found'}\")"
   ]
  },
  {
   "cell_type": "markdown",
   "metadata": {},
   "source": [
    "## 2. Relationship Traversal - Find Upstream Providers"
   ]
  },
  {
   "cell_type": "code",
   "execution_count": null,
   "metadata": {},
   "outputs": [],
   "source": [
    "# Find upstream providers using high-level API\n",
    "providers = iyp.find_upstream_providers(asn=216139, max_hops=1)\n",
    "\n",
    "print(\"Upstream providers for AS216139:\")\n",
    "for p in providers[:3]:  # Show first 3\n",
    "    print(f\"  - AS{p.get('upstream.asn', 'N/A')}: {p.get('upstream.name', 'Unknown')}\")"
   ]
  },
  {
   "cell_type": "markdown",
   "metadata": {},
   "source": [
    "## 3. Complex Conditions - Boolean Logic (Automatic Aliases)"
   ]
  },
  {
   "cell_type": "code",
   "execution_count": null,
   "metadata": {},
   "outputs": [],
   "source": [
    "# Find US-based ASes that depend on major transit providers - with automatic aliases\n",
    "major_transit = [174, 3356, 1299]  # Cogent, Level3, Telia\n",
    "\n",
    "results = (iyp.builder()\n",
    "           .find('AS')  # Will use 'as' alias automatically\n",
    "           .with_relationship('DEPENDS_ON', to='AS')  # Will use 'as_1' for the provider AS\n",
    "           .with_relationship('COUNTRY', to='Country')  # Will use 'country' alias automatically\n",
    "           .where(\n",
    "               And(\n",
    "                   Q('as_1.asn').in_(major_transit),\n",
    "                   Q('country.country_code') == 'US'\n",
    "               )\n",
    "           )\n",
    "           .limit(3)\n",
    "           .return_fields(['as.asn', 'as.name', 'as_1.asn'])\n",
    "           .run())\n",
    "\n",
    "print(f\"Found {len(results)} US customers of major transit providers\")\n",
    "for r in results:\n",
    "    print(f\"  AS{r['as.asn']} -> AS{r['as_1.asn']}\")"
   ]
  },
  {
   "cell_type": "markdown",
   "metadata": {},
   "source": [
    "## 4. Graph Traversal - Multi-hop Relationships"
   ]
  },
  {
   "cell_type": "code",
   "execution_count": null,
   "metadata": {},
   "outputs": [],
   "source": [
    "# Find 2-hop upstream providers - let automatic aliases handle conflicts\n",
    "results = (iyp.builder()\n",
    "           .find('AS', asn=216139)  # 'as' alias\n",
    "           .upstream(hops=2)  # Will create unique alias for upstream nodes\n",
    "           .limit(5)\n",
    "           .run())\n",
    "\n",
    "print(\"2-hop upstream from AS216139:\")\n",
    "for r in results:\n",
    "    # Print all fields to see what aliases were generated\n",
    "    print(f\"  Result: {r}\")"
   ]
  },
  {
   "cell_type": "markdown",
   "metadata": {},
   "source": [
    "## 5. Export to DataFrame with Automatic Aliases"
   ]
  },
  {
   "cell_type": "code",
   "execution_count": null,
   "metadata": {},
   "outputs": [],
   "source": [
    "# Get results as pandas DataFrame - let system generate aliases\n",
    "df = (iyp.builder()\n",
    "      .find('AS')  # Will use 'as' alias\n",
    "      .with_relationship('COUNTRY', to='Country')  # Will use 'country' alias\n",
    "      .where(Q('country.country_code') == 'GB')\n",
    "      .limit(10)\n",
    "      .return_fields(['as.asn', 'as.name', 'country.country_code'])\n",
    "      .run_as_dataframe())\n",
    "\n",
    "print(f\"UK ASes (showing {len(df)} rows):\")\n",
    "print(df[['as.asn', 'as.name']].head() if not df.empty else \"No results\")"
   ]
  },
  {
   "cell_type": "markdown",
   "metadata": {},
   "source": [
    "## 6. Debug - View Generated Cypher with Auto-Aliases"
   ]
  },
  {
   "cell_type": "code",
   "execution_count": null,
   "metadata": {},
   "outputs": [],
   "source": [
    "# See what Cypher query is generated with automatic aliases\n",
    "query = (iyp.builder()\n",
    "         .find('AS')  # Will use 'as' alias\n",
    "         .with_relationship('PEERS_WITH', to='AS')  # Will use 'as_1' alias for peer\n",
    "         .where(Q('as.asn') == 15169)\n",
    "         .limit(2)\n",
    "         .return_fields(['as.asn', 'as_1.asn', 'as_1.name']))\n",
    "\n",
    "print(\"Generated Cypher with automatic aliases:\")\n",
    "print(query.to_cypher())\n",
    "print(\"\\nParameters:\")\n",
    "print(query.get_parameters())"
   ]
  },
  {
   "cell_type": "markdown",
   "metadata": {},
   "source": [
    "## Summary of Fixed Features\n",
    "\n",
    "✅ **Automatic Alias Generation** - No more alias conflicts!  \n",
    "✅ **Basic Queries** - Find nodes without worrying about aliases  \n",
    "✅ **Relationships** - System handles unique aliases for each node  \n",
    "✅ **Boolean Logic** - Works with auto-generated aliases  \n",
    "✅ **Multi-hop Traversal** - Automatic unique naming  \n",
    "✅ **DataFrame Export** - Clean column names from auto-aliases  \n",
    "✅ **Debug Support** - See exactly what aliases were generated  "
   ]
  }
 ],
 "metadata": {
  "kernelspec": {
   "display_name": "Python 3",
   "language": "python",
   "name": "python3"
  },
  "language_info": {
   "codemirror_mode": {
    "name": "ipython",
    "version": 3
   },
   "file_extension": ".py",
   "mimetype": "text/x-python",
   "name": "python",
   "nbconvert_exporter": "python",
   "pygments_lexer": "ipython3",
   "version": "3.12.9"
  }
 },
 "nbformat": 4,
 "nbformat_minor": 4
}